{
 "cells": [
  {
   "cell_type": "code",
   "execution_count": 1,
   "id": "13e9e2ae",
   "metadata": {},
   "outputs": [],
   "source": [
    "import numpy as np\n",
    "import matplotlib.pyplot as plt"
   ]
  },
  {
   "cell_type": "code",
   "execution_count": 10,
   "id": "bd17a8df",
   "metadata": {},
   "outputs": [],
   "source": [
    "class Sampler(object):\n",
    "    \n",
    "    # Generate samples based on \n",
    "    # fs: Sampling frequency per second\n",
    "    # T: Period of interest (in seconds)\n",
    "    def __init__(self, fs=20000, T=2, n_spikes=8):\n",
    "        self.fs = fs\n",
    "        self.T = T\n",
    "        self.t = np.arange(0, T, 1 / fs) \n",
    "        self.n_spikes = n_spikes\n",
    "    \n",
    "    def sample(self, epsilon = 0.00005):\n",
    "        self.x = sample_signal(self.t, epsilon)\n",
    "        sample_spikes(self.x, self.n_spikes, epsilon)\n",
    "        plot(self.t, self.x)\n",
    "        return self.x\n",
    "    \n",
    "        \n",
    "# Converts time t (in seconds) to index in data\n",
    "def time_to_index(t):\n",
    "    return int(t * fs)\n",
    "\n",
    "# Set very small random noise in the range [-epsilon, epsilon]\n",
    "def small_random_noise(t, epsilon = 0.00005):\n",
    "    return epsilon * np.random.randn(len(t))\n",
    "\n",
    "# Generate the samples \n",
    "# epsilon: noise coefficient\n",
    "def sample_signal(t, epsilon = 0.00005):\n",
    "    f1 = 3000\n",
    "    a1 = 0.1\n",
    "    f2 = 4000\n",
    "    a2 = 0.2\n",
    "    return small_random_noise(t, epsilon=epsilon) + a1 * np.sin(2 * np.pi * f1 * t) + a2 * np.sin(2 * np.pi * f2 * t) \n",
    "\n",
    "# Sample n_spikes spikes from signal\n",
    "def sample_spikes(x, n_spikes, epsilon = 0.00005):\n",
    "    ampl = np.max(x)\n",
    "    \n",
    "    offset = 4\n",
    "    \n",
    "    sampled_spike_indices = np.random.choice(np.arange(offset, len(t)), size=n_spikes, replace=False)\n",
    "    sampled_spike_indices.sort()\n",
    "    \n",
    "    for index in sampled_spike_indices:\n",
    "        assert(index >= offset)\n",
    "        x[index - 2 : index - 1] = 3 * ampl\n",
    "        x[index - 1 : index] = -4 * ampl\n",
    "        x[index : index + 1] = 8 * ampl\n",
    "    \n",
    "    return sampled_spike_indices\n",
    "\n",
    "def plot(t, data):\n",
    "    # Plot the received (sampled) signal\n",
    "    fig, ax = plt.subplots(1, 1, figsize=(6, 3),dpi = 600)\n",
    "\n",
    "    plt.title(\"Received Neural Signal\")\n",
    "    plt.ylabel(\"Voltage (mV)\")\n",
    "    plt.xlabel(\"Time (s)\")\n",
    "\n",
    "    plt.plot(t, data)\n",
    "    plt.show()"
   ]
  },
  {
   "cell_type": "code",
   "execution_count": null,
   "id": "6072e7fe",
   "metadata": {},
   "outputs": [],
   "source": []
  }
 ],
 "metadata": {
  "kernelspec": {
   "display_name": "Python 3",
   "language": "python",
   "name": "python3"
  },
  "language_info": {
   "codemirror_mode": {
    "name": "ipython",
    "version": 3
   },
   "file_extension": ".py",
   "mimetype": "text/x-python",
   "name": "python",
   "nbconvert_exporter": "python",
   "pygments_lexer": "ipython3",
   "version": "3.8.8"
  }
 },
 "nbformat": 4,
 "nbformat_minor": 5
}
